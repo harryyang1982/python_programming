{
 "cells": [
  {
   "cell_type": "markdown",
   "metadata": {},
   "source": [
    "## 1. 함수 기초"
   ]
  },
  {
   "cell_type": "code",
   "execution_count": 2,
   "metadata": {},
   "outputs": [],
   "source": [
    "def calculate_rectangle_area(x, y):\n",
    "    return x * y"
   ]
  },
  {
   "cell_type": "code",
   "execution_count": 3,
   "metadata": {},
   "outputs": [
    {
     "data": {
      "text/plain": [
       "56"
      ]
     },
     "execution_count": 3,
     "metadata": {},
     "output_type": "execute_result"
    }
   ],
   "source": [
    "calculate_rectangle_area(8, 7)"
   ]
  },
  {
   "cell_type": "markdown",
   "metadata": {},
   "source": [
    "### 3. 함수의 실행 순서"
   ]
  },
  {
   "cell_type": "code",
   "execution_count": 4,
   "metadata": {},
   "outputs": [
    {
     "name": "stdout",
     "output_type": "stream",
     "text": [
      "사각형 x의 길이:  10\n",
      "사각형 y의 길이:  20\n",
      "사각형의 넓이:  200\n"
     ]
    }
   ],
   "source": [
    "rectangle_x = 10\n",
    "rectangle_y = 20\n",
    "print(\"사각형 x의 길이: \", rectangle_x)\n",
    "print(\"사각형 y의 길이: \", rectangle_y)\n",
    "\n",
    "# 넓이를 구하는 함수 호출\n",
    "print(\"사각형의 넓이: \", calculate_rectangle_area(rectangle_x, rectangle_y))"
   ]
  },
  {
   "cell_type": "code",
   "execution_count": 5,
   "metadata": {},
   "outputs": [
    {
     "name": "stdout",
     "output_type": "stream",
     "text": [
      "151\n"
     ]
    }
   ],
   "source": [
    "def f(x):\n",
    "    return 2 * x + 7\n",
    "def g(x):\n",
    "    return x ** 2\n",
    "\n",
    "x = 2\n",
    "print(f(x) + g(x) + f(g(x)) + g(f(x)))"
   ]
  },
  {
   "cell_type": "markdown",
   "metadata": {},
   "source": [
    "## 2 함수 심화"
   ]
  },
  {
   "cell_type": "code",
   "execution_count": 6,
   "metadata": {},
   "outputs": [
    {
     "name": "stdout",
     "output_type": "stream",
     "text": [
      "9\n",
      "3\n"
     ]
    }
   ],
   "source": [
    "def f(x):\n",
    "    y = x\n",
    "    x = 5\n",
    "    return y * y\n",
    "\n",
    "x = 3\n",
    "print(f(x))\n",
    "print(x)"
   ]
  },
  {
   "cell_type": "markdown",
   "metadata": {},
   "source": [
    "### 2. 변수의 사용 범위"
   ]
  },
  {
   "cell_type": "code",
   "execution_count": 7,
   "metadata": {},
   "outputs": [
    {
     "name": "stdout",
     "output_type": "stream",
     "text": [
      "10\n",
      "In Function: 20\n",
      "In Main: 10\n"
     ]
    },
    {
     "ename": "NameError",
     "evalue": "name 't' is not defined",
     "output_type": "error",
     "traceback": [
      "\u001b[0;31m---------------------------------------------------------------------------\u001b[0m",
      "\u001b[0;31mNameError\u001b[0m                                 Traceback (most recent call last)",
      "\u001b[0;32m<ipython-input-7-da5c16684b80>\u001b[0m in \u001b[0;36m<module>\u001b[0;34m\u001b[0m\n\u001b[1;32m      7\u001b[0m \u001b[0mtest\u001b[0m\u001b[0;34m(\u001b[0m\u001b[0mx\u001b[0m\u001b[0;34m)\u001b[0m\u001b[0;34m\u001b[0m\u001b[0;34m\u001b[0m\u001b[0m\n\u001b[1;32m      8\u001b[0m \u001b[0mprint\u001b[0m\u001b[0;34m(\u001b[0m\u001b[0;34m\"In Main:\"\u001b[0m\u001b[0;34m,\u001b[0m \u001b[0mx\u001b[0m\u001b[0;34m)\u001b[0m\u001b[0;34m\u001b[0m\u001b[0;34m\u001b[0m\u001b[0m\n\u001b[0;32m----> 9\u001b[0;31m \u001b[0mprint\u001b[0m\u001b[0;34m(\u001b[0m\u001b[0;34m\"In Main:\"\u001b[0m\u001b[0;34m,\u001b[0m \u001b[0mt\u001b[0m\u001b[0;34m)\u001b[0m\u001b[0;34m\u001b[0m\u001b[0;34m\u001b[0m\u001b[0m\n\u001b[0m",
      "\u001b[0;31mNameError\u001b[0m: name 't' is not defined"
     ]
    }
   ],
   "source": [
    "def test(t):\n",
    "    print(x)\n",
    "    t = 20\n",
    "    print(\"In Function:\", t)\n",
    "    \n",
    "x = 10\n",
    "test(x)\n",
    "print(\"In Main:\", x)\n",
    "print(\"In Main:\", t)"
   ]
  },
  {
   "cell_type": "code",
   "execution_count": 8,
   "metadata": {},
   "outputs": [
    {
     "name": "stdout",
     "output_type": "stream",
     "text": [
      "I love London!\n",
      "I love Paris!\n"
     ]
    }
   ],
   "source": [
    "def f():\n",
    "    s = \"I love London!\"\n",
    "    print(s)\n",
    "\n",
    "s = \"I love Paris!\"\n",
    "f()\n",
    "print(s)"
   ]
  },
  {
   "cell_type": "code",
   "execution_count": 9,
   "metadata": {},
   "outputs": [
    {
     "name": "stdout",
     "output_type": "stream",
     "text": [
      "I love London!\n",
      "I love London!\n"
     ]
    }
   ],
   "source": [
    "def f():\n",
    "    global s\n",
    "    s = \"I love London!\"\n",
    "    print(s)\n",
    "    \n",
    "s = \"I love Paris!\"\n",
    "f()\n",
    "print(s)"
   ]
  },
  {
   "cell_type": "code",
   "execution_count": 10,
   "metadata": {},
   "outputs": [
    {
     "name": "stdout",
     "output_type": "stream",
     "text": [
      "In Program - 1\n",
      "a: 5 b: 7 a + b: 12\n",
      "In Function\n",
      "a: 5 b: 7 a + b: 12 total: 12\n",
      "After Calculation\n",
      "Total: 0  Sum: 12\n"
     ]
    }
   ],
   "source": [
    "def calculate(x, y):\n",
    "    total = x + y\n",
    "    print(\"In Function\")\n",
    "    print(\"a:\", str(a), \"b:\", str(b), \"a + b:\", str(a + b), \"total:\", str(total))\n",
    "    return total\n",
    "\n",
    "a = 5\n",
    "b = 7\n",
    "total = 0\n",
    "print(\"In Program - 1\")\n",
    "print(\"a:\", str(a), \"b:\", str(b), \"a + b:\", str(a + b))\n",
    "\n",
    "sum = calculate (a, b)\n",
    "print(\"After Calculation\")\n",
    "print(\"Total:\", str(total), \" Sum:\", str(sum))\n"
   ]
  },
  {
   "cell_type": "code",
   "execution_count": 11,
   "metadata": {},
   "outputs": [],
   "source": [
    "### 3. 재귀 함수"
   ]
  },
  {
   "cell_type": "markdown",
   "metadata": {},
   "source": [
    "## 3. 함수의 인수"
   ]
  },
  {
   "cell_type": "markdown",
   "metadata": {},
   "source": [
    "### 2. 디폴트 인수"
   ]
  },
  {
   "cell_type": "code",
   "execution_count": 12,
   "metadata": {},
   "outputs": [
    {
     "name": "stdout",
     "output_type": "stream",
     "text": [
      "Hello TEAMLAB, My name is Seunghoon\n",
      "Hello TEAMLAB, My name is Seunghoon\n"
     ]
    }
   ],
   "source": [
    "def print_something_2(my_name, your_name = \"TEAMLAB\"):\n",
    "    print(\"Hello {0}, My name is {1}\".format(your_name, my_name))\n",
    "\n",
    "print_something_2(\"Seunghoon\", \"TEAMLAB\")\n",
    "print_something_2(\"Seunghoon\")"
   ]
  },
  {
   "cell_type": "code",
   "execution_count": null,
   "metadata": {},
   "outputs": [],
   "source": []
  }
 ],
 "metadata": {
  "interpreter": {
   "hash": "aee8b7b246df8f9039afb4144a1f6fd8d2ca17a180786b69acc140d282b71a49"
  },
  "kernelspec": {
   "display_name": "Python 3.8.3 64-bit",
   "language": "python",
   "name": "python3"
  },
  "language_info": {
   "codemirror_mode": {
    "name": "ipython",
    "version": 3
   },
   "file_extension": ".py",
   "mimetype": "text/x-python",
   "name": "python",
   "nbconvert_exporter": "python",
   "pygments_lexer": "ipython3",
   "version": "3.8.3"
  },
  "orig_nbformat": 4
 },
 "nbformat": 4,
 "nbformat_minor": 2
}
